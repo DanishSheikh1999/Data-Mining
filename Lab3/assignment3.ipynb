{
 "cells": [
  {
   "cell_type": "code",
   "execution_count": 7,
   "metadata": {},
   "outputs": [
    {
     "name": "stdout",
     "output_type": "stream",
     "text": [
      "Time taken to create 500 files: 53.01231861114502\n"
     ]
    }
   ],
   "source": [
    "#Program 1: Create 500 texts files in a directory. Every file contains 20,000 lines and every line \n",
    "#contains a random string of length 20 characters.\n",
    "import random\n",
    "import string\n",
    "import time\n",
    "start_time = time.time()\n",
    "for i in range(500):\n",
    "    f = open(\"files/file\"+str(i+1)+\".txt\", \"w\")\n",
    "    for j in range(20000):\n",
    "        f.write(''.join(random.choices(string.ascii_letters, k = 20))+\"\\n\")\n",
    "    f.close()\n",
    "end_time=time.time()\n",
    "print(\"Time taken to create 500 files:\",end_time-start_time)\n",
    "                \n"
   ]
  },
  {
   "cell_type": "code",
   "execution_count": 10,
   "metadata": {},
   "outputs": [
    {
     "name": "stdout",
     "output_type": "stream",
     "text": [
      "dnxUwViERhKoMBymDIJG\n",
      "yczLgtKFfQArwywTNnFq\n",
      "TuKpzyNWamdKaykVROtU\n",
      "eGqGYOlGpcBGMkjJXcPl\n",
      "ASdInPvolwUKXrDARNvu\n",
      "ADCfBrCuXvEDbsZvtTUz\n",
      "FKSlrQePZBXWbNmhBRbH\n",
      "BFyzyRttQaSfDbNbYEtI\n",
      "rJVtuGAyAXswaqXYEPsh\n",
      "pLKQKhdWKzTEVDkDEVyK\n",
      "zMTLUOeVeicYcWjXXWzO\n",
      "XbxtxpxvxfkjFdUoOiOM\n",
      "MBcZMNjXYULBLmtPercW\n",
      "dQOmHlHwMbDJZHEFjORz\n",
      "DjrABxRGimnmxKpVmuzr\n",
      "XpsEaugjAYrjDCUPoYOT\n",
      "BMQuySHBYcEaNHOgUtCM\n",
      "mNJrpWLCwagLBiCNeGTe\n",
      "DodCFPbJeUAmeiTSSpBK\n",
      "CFCFuboJSzdjhlGRMSNH\n",
      "fMFNMPIfaJIzKOHHtUzB\n",
      "KtMClZcdwQRtjWbvbOML\n",
      "oHFOWXrPSQuyHprKParW\n",
      "NdyLlJHaWIRCJOYYzkXJ\n",
      "QvYJpwfRjNjmsZOweipR\n",
      "iAZCLHwnGuLaXUrqNAoa\n",
      "mFWiQvCawgIpUWNjLbPi\n",
      "ngivCMmRNztBjvEVNYsC\n",
      "MMChvMApXrtTikQrDoiJ\n",
      "GaAdDREuUIHSGEzPWOOF\n",
      "lesSYgCdugGMzotlGHqL\n",
      "ADqsXQOCNlpKQAMcoodl\n",
      "qGRkSTAsNTtrLWyqSvNb\n",
      "iGVGAPjYNLiLjkRGweUM\n",
      "VpcMNWtQzYxXKFxqJVXI\n",
      "mgeILJWjhtgaXEJTPWiZ\n",
      "WrioMLbHuWbBnMYCyvUn\n",
      "qtdirKdSnHCKCtQgOipE\n",
      "zGEEKgrMktzdByYptGaX\n",
      "aNDJNowUSYkTKNpPkqYL\n",
      "KXYDIqwjxkKIbLNnTons\n",
      "MrmcjNxNyvDSLEwYczzR\n",
      "oRJgRdSKUlScIScTxkHX\n",
      "rrZazGknLWIONSbywGZC\n",
      "BsrsYBgWyYMyVgoFpVBE\n",
      "PxosObnKUihpHXizugQT\n",
      "QzsVQnjHsFotqKxqfKDo\n",
      "MNPRqHxcBGTKr\n"
     ]
    }
   ],
   "source": [
    "#print a file upto 1000 characters\n",
    "f = open(\"files/file1.txt\", \"r\")\n",
    "print(f.read(1000)) "
   ]
  },
  {
   "cell_type": "code",
   "execution_count": 11,
   "metadata": {},
   "outputs": [
    {
     "name": "stdout",
     "output_type": "stream",
     "text": [
      "Time taken to convert 100 to upper case: 10.067553043365479\n",
      "Time taken to convert 200 to upper case: 21.463669776916504\n",
      "Time taken to convert 300 to upper case: 31.117183685302734\n",
      "Time taken to convert 400 to upper case: 40.91912484169006\n",
      "Time taken to convert 500 to upper case: 52.60735058784485\n"
     ]
    }
   ],
   "source": [
    "# Calculate the time taken to convertall the files to upper case.\n",
    "import csv\n",
    "data=[]\n",
    "start_time = time.time()\n",
    "for i in range(1,501):\n",
    "    f = open(\"files/file\"+str(i)+\".txt\", \"r\")\n",
    "    lines = f.readlines()\n",
    "    f.close()\n",
    "    f1 = open(\"files/file\"+str(i)+\".txt\", \"w\")\n",
    "    for line in lines:\n",
    "        f1.write(line.upper())\n",
    "    f1.close()\n",
    "    if(i%100==0):\n",
    "        ex_time=time.time()-start_time\n",
    "        data.append([i,ex_time])\n",
    "        print(\"Time taken to convert {} to upper case: {}\".format(i,ex_time))\n",
    "\n",
    "c = open('data.csv', 'w')\n",
    "writer = csv.writer(c)\n",
    "header=[\"No.of Files\",\"Time Taken(sec)\"]\n",
    "writer.writerow(header)\n",
    "writer.writerows(data)\n",
    "c.close()"
   ]
  },
  {
   "cell_type": "code",
   "execution_count": 12,
   "metadata": {},
   "outputs": [
    {
     "name": "stdout",
     "output_type": "stream",
     "text": [
      "DNXUWVIERHKOMBYMDIJG\n",
      "YCZLGTKFFQARWYWTNNFQ\n",
      "TUKPZYNWAMDKAYKVROTU\n",
      "EGQGYOLGPCBGMKJJXCPL\n",
      "ASDINPVOLWUKXRDARNVU\n",
      "ADCFBRCUXVEDBSZVTTUZ\n",
      "FKSLRQEPZBXWBNMHBRBH\n",
      "BFYZYRTTQASFDBNBYETI\n",
      "RJVTUGAYAXSWAQXYEPSH\n",
      "PLKQKHDWKZTEVDKDEVYK\n",
      "ZMTLUOEVEICYCWJXXWZO\n",
      "XBXTXPXVXFKJFDUOOIOM\n",
      "MBCZMNJXYULBLMTPERCW\n",
      "DQOMHLHWMBDJZHEFJORZ\n",
      "DJRABXRGIMNMXKPVMUZR\n",
      "XPSEAUGJAYRJDCUPOYOT\n",
      "BMQUYSHBYCEANHOGUTCM\n",
      "MNJRPWLCWAGLBICNEGTE\n",
      "DODCFPBJEUAMEITSSPBK\n",
      "CFCFUBOJSZDJHLGRMSNH\n",
      "FMFNMPIFAJIZKOHHTUZB\n",
      "KTMCLZCDWQRTJWBVBOML\n",
      "OHFOWXRPSQUYHPRKPARW\n",
      "NDYLLJHAWIRCJOYYZKXJ\n",
      "QVYJPWFRJNJMSZOWEIPR\n",
      "IAZCLHWNGULAXURQNAOA\n",
      "MFWIQVCAWGIPUWNJLBPI\n",
      "NGIVCMMRNZTBJVEVNYSC\n",
      "MMCHVMAPXRTTIKQRDOIJ\n",
      "GAADDREUUIHSGEZPWOOF\n",
      "LESSYGCDUGGMZOTLGHQL\n",
      "ADQSXQOCNLPKQAMCOODL\n",
      "QGRKSTASNTTRLWYQSVNB\n",
      "IGVGAPJYNLILJKRGWEUM\n",
      "VPCMNWTQZYXXKFXQJVXI\n",
      "MGEILJWJHTGAXEJTPWIZ\n",
      "WRIOMLBHUWBBNMYCYVUN\n",
      "QTDIRKDSNHCKCTQGOIPE\n",
      "ZGEEKGRMKTZDBYYPTGAX\n",
      "ANDJNOWUSYKTKNPPKQYL\n",
      "KXYDIQWJXKKIBLNNTONS\n",
      "MRMCJNXNYVDSLEWYCZZR\n",
      "ORJGRDSKULSCISCTXKHX\n",
      "RRZAZGKNLWIONSBYWGZC\n",
      "BSRSYBGWYYMYVGOFPVBE\n",
      "PXOSOBNKUIHPHXIZUGQT\n",
      "QZSVQNJHSFOTQKXQFKDO\n",
      "MNPRQHXCBGTKR\n"
     ]
    }
   ],
   "source": [
    "#print a file upto 1000 characters after upper case conversion\n",
    "f = open(\"files/file1.txt\", \"r\")\n",
    "print(f.read(1000)) "
   ]
  },
  {
   "cell_type": "code",
   "execution_count": 13,
   "metadata": {},
   "outputs": [
    {
     "name": "stdout",
     "output_type": "stream",
     "text": [
      "   No.of Files  Time Taken(sec)\n",
      "0          100        10.067553\n",
      "1          200        21.463670\n",
      "2          300        31.117184\n",
      "3          400        40.919125\n",
      "4          500        52.607351\n"
     ]
    }
   ],
   "source": [
    "#checking the csv file\n",
    "import pandas as pd\n",
    "df = pd.read_csv('data.csv')\n",
    "print(df)"
   ]
  },
  {
   "cell_type": "code",
   "execution_count": null,
   "metadata": {},
   "outputs": [],
   "source": []
  }
 ],
 "metadata": {
  "interpreter": {
   "hash": "2be5faf79681da6f2a61fdfdd5405d65d042280f7fba6178067603e3a2925119"
  },
  "kernelspec": {
   "display_name": "Python 3.10.2 64-bit",
   "language": "python",
   "name": "python3"
  },
  "language_info": {
   "codemirror_mode": {
    "name": "ipython",
    "version": 3
   },
   "file_extension": ".py",
   "mimetype": "text/x-python",
   "name": "python",
   "nbconvert_exporter": "python",
   "pygments_lexer": "ipython3",
   "version": "3.10.2"
  },
  "orig_nbformat": 4
 },
 "nbformat": 4,
 "nbformat_minor": 2
}
