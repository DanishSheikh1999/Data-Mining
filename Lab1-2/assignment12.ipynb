{
 "cells": [
  {
   "cell_type": "code",
   "execution_count": 21,
   "metadata": {},
   "outputs": [],
   "source": [
    "# Q1. L is a list defined as L= [11, 12, 13, 14].\n",
    "L = [11, 12, 13, 14]"
   ]
  },
  {
   "cell_type": "code",
   "execution_count": 12,
   "metadata": {},
   "outputs": [
    {
     "data": {
      "text/plain": [
       "[11, 12, 13, 14, 50, 60]"
      ]
     },
     "execution_count": 12,
     "metadata": {},
     "output_type": "execute_result"
    }
   ],
   "source": [
    "# 1.WAP to add 50 and 60 to L.\n",
    "L=L+[50,60]\n",
    "L"
   ]
  },
  {
   "cell_type": "code",
   "execution_count": 13,
   "metadata": {},
   "outputs": [
    {
     "data": {
      "text/plain": [
       "[12, 14, 50, 60]"
      ]
     },
     "execution_count": 13,
     "metadata": {},
     "output_type": "execute_result"
    }
   ],
   "source": [
    "# 2.WAP to remove 11 and 13 from L.\n",
    "L.remove(11)\n",
    "L.remove(13)\n",
    "L"
   ]
  },
  {
   "cell_type": "code",
   "execution_count": 23,
   "metadata": {},
   "outputs": [
    {
     "data": {
      "text/plain": [
       "[11, 12, 13, 14]"
      ]
     },
     "execution_count": 23,
     "metadata": {},
     "output_type": "execute_result"
    }
   ],
   "source": [
    "# 3.WAP to sort L in ascending order.\n",
    "L.sort()\n",
    "L"
   ]
  },
  {
   "cell_type": "code",
   "execution_count": 24,
   "metadata": {},
   "outputs": [
    {
     "data": {
      "text/plain": [
       "[14, 13, 12, 11]"
      ]
     },
     "execution_count": 24,
     "metadata": {},
     "output_type": "execute_result"
    }
   ],
   "source": [
    "# 4.WAP to sort L in descending order.\n",
    "L.sort(reverse=True)\n",
    "L"
   ]
  },
  {
   "cell_type": "code",
   "execution_count": 22,
   "metadata": {},
   "outputs": [
    {
     "data": {
      "text/plain": [
       "2"
      ]
     },
     "execution_count": 22,
     "metadata": {},
     "output_type": "execute_result"
    }
   ],
   "source": [
    "# 5.WAP to search for 13 in L.\n",
    "L.index(13)\n"
   ]
  },
  {
   "cell_type": "code",
   "execution_count": 25,
   "metadata": {},
   "outputs": [
    {
     "data": {
      "text/plain": [
       "4"
      ]
     },
     "execution_count": 25,
     "metadata": {},
     "output_type": "execute_result"
    }
   ],
   "source": [
    "# 6.WAP to count the number of elements present in L.\n",
    "len(L)"
   ]
  },
  {
   "cell_type": "code",
   "execution_count": 26,
   "metadata": {},
   "outputs": [
    {
     "data": {
      "text/plain": [
       "50"
      ]
     },
     "execution_count": 26,
     "metadata": {},
     "output_type": "execute_result"
    }
   ],
   "source": [
    "# 7.WAP to sum all the elements in L.\n",
    "sum(L)"
   ]
  },
  {
   "cell_type": "code",
   "execution_count": 27,
   "metadata": {},
   "outputs": [
    {
     "data": {
      "text/plain": [
       "24"
      ]
     },
     "execution_count": 27,
     "metadata": {},
     "output_type": "execute_result"
    }
   ],
   "source": [
    "# 8. WAP to sum all ODD numbers in L.\n",
    "sum([x for x in L if x%2==1])"
   ]
  },
  {
   "cell_type": "code",
   "execution_count": 28,
   "metadata": {},
   "outputs": [
    {
     "data": {
      "text/plain": [
       "26"
      ]
     },
     "execution_count": 28,
     "metadata": {},
     "output_type": "execute_result"
    }
   ],
   "source": [
    "# 9.WAP to sum all EVEN numbers in L.\n",
    "sum([x for x in L if x%2==0])"
   ]
  },
  {
   "cell_type": "code",
   "execution_count": 29,
   "metadata": {},
   "outputs": [
    {
     "data": {
      "text/plain": [
       "24"
      ]
     },
     "execution_count": 29,
     "metadata": {},
     "output_type": "execute_result"
    }
   ],
   "source": [
    "#10 .WAP to sum all PRIME numbers in L.\n",
    "is_prime = lambda number: all( number%i != 0 for i in range(2, int(number**.5)+1) )\n",
    "sum([x for x in L if is_prime(x)])"
   ]
  },
  {
   "cell_type": "code",
   "execution_count": 30,
   "metadata": {},
   "outputs": [
    {
     "data": {
      "text/plain": [
       "[]"
      ]
     },
     "execution_count": 30,
     "metadata": {},
     "output_type": "execute_result"
    }
   ],
   "source": [
    "# 11.WAP to clear all the elements in L.\n",
    "L.clear()\n",
    "L"
   ]
  },
  {
   "cell_type": "code",
   "execution_count": 33,
   "metadata": {},
   "outputs": [
    {
     "ename": "NameError",
     "evalue": "name 'L' is not defined",
     "output_type": "error",
     "traceback": [
      "\u001b[1;31m---------------------------------------------------------------------------\u001b[0m",
      "\u001b[1;31mNameError\u001b[0m                                 Traceback (most recent call last)",
      "Input \u001b[1;32mIn [33]\u001b[0m, in \u001b[0;36m<module>\u001b[1;34m\u001b[0m\n\u001b[0;32m      1\u001b[0m \u001b[38;5;66;03m# 12 WAP to delete L.\u001b[39;00m\n\u001b[1;32m----> 2\u001b[0m \u001b[38;5;28;01mdel\u001b[39;00m L\n\u001b[0;32m      3\u001b[0m L\n",
      "\u001b[1;31mNameError\u001b[0m: name 'L' is not defined"
     ]
    }
   ],
   "source": [
    "# 12 WAP to delete L.\n",
    "del L\n",
    "L"
   ]
  },
  {
   "cell_type": "code",
   "execution_count": 21,
   "metadata": {},
   "outputs": [
    {
     "data": {
      "text/plain": [
       "{1: 5.6, 2: 7.8, 3: 6.6, 4: 8.7, 5: 7.7}"
      ]
     },
     "execution_count": 21,
     "metadata": {},
     "output_type": "execute_result"
    }
   ],
   "source": [
    "# Q2. D is a dictionary defined as D= {1:5.6, 2:7.8, 3:6.6, 4:8.7, 5:7.7}.\n",
    "D = {1:5.6, 2:7.8, 3:6.6, 4:8.7, 5:7.7}\n",
    "D"
   ]
  },
  {
   "cell_type": "code",
   "execution_count": 22,
   "metadata": {},
   "outputs": [
    {
     "data": {
      "text/plain": [
       "{1: 5.6, 2: 7.8, 3: 6.6, 4: 8.7, 5: 7.7, 8: 8.8}"
      ]
     },
     "execution_count": 22,
     "metadata": {},
     "output_type": "execute_result"
    }
   ],
   "source": [
    "# i. WAP to add new entry in D; key=8 and value is 8.8\n",
    "D[8]=8.8\n",
    "D"
   ]
  },
  {
   "cell_type": "code",
   "execution_count": 23,
   "metadata": {},
   "outputs": [
    {
     "data": {
      "text/plain": [
       "{1: 5.6, 3: 6.6, 4: 8.7, 5: 7.7, 8: 8.8}"
      ]
     },
     "execution_count": 23,
     "metadata": {},
     "output_type": "execute_result"
    }
   ],
   "source": [
    "# ii. WAP to remove key=2.\n",
    "D.pop(2)\n",
    "D"
   ]
  },
  {
   "cell_type": "code",
   "execution_count": 6,
   "metadata": {},
   "outputs": [
    {
     "data": {
      "text/plain": [
       "False"
      ]
     },
     "execution_count": 6,
     "metadata": {},
     "output_type": "execute_result"
    }
   ],
   "source": [
    "# iii. WAP to check weather 6 key is present in D.\n",
    "6 in D"
   ]
  },
  {
   "cell_type": "code",
   "execution_count": 7,
   "metadata": {},
   "outputs": [
    {
     "data": {
      "text/plain": [
       "5"
      ]
     },
     "execution_count": 7,
     "metadata": {},
     "output_type": "execute_result"
    }
   ],
   "source": [
    "# iv. WAP to count the number of elements present in D.\n",
    "len(D)"
   ]
  },
  {
   "cell_type": "code",
   "execution_count": 24,
   "metadata": {},
   "outputs": [
    {
     "name": "stdout",
     "output_type": "stream",
     "text": [
      "{1: 5.6, 3: 6.6, 4: 8.7, 5: 7.7, 8: 8.8}\n",
      "Sum 37.4\n"
     ]
    }
   ],
   "source": [
    "# v. WAP to add all the values present D.\n",
    "print(D)\n",
    "print(\"Sum {}\".format(sum(D.values())))"
   ]
  },
  {
   "cell_type": "code",
   "execution_count": 25,
   "metadata": {},
   "outputs": [
    {
     "name": "stdout",
     "output_type": "stream",
     "text": [
      "Before Updation D was {1: 5.6, 3: 6.6, 4: 8.7, 5: 7.7, 8: 8.8}\n",
      "After Updation D is {1: 5.6, 3: 7.1, 4: 8.7, 5: 7.7, 8: 8.8}\n"
     ]
    }
   ],
   "source": [
    "# vi. WAP to update the value of 3 to 7.1.\n",
    "print(\"Before Updation D was {}\".format(D))\n",
    "D[3]=7.1\n",
    "print(\"After Updation D is {}\".format(D))"
   ]
  },
  {
   "cell_type": "code",
   "execution_count": 26,
   "metadata": {},
   "outputs": [
    {
     "data": {
      "text/plain": [
       "{}"
      ]
     },
     "execution_count": 26,
     "metadata": {},
     "output_type": "execute_result"
    }
   ],
   "source": [
    "# vii. WAP to clear the dictionary.\n",
    "D.clear()\n",
    "D"
   ]
  },
  {
   "cell_type": "code",
   "execution_count": 27,
   "metadata": {},
   "outputs": [],
   "source": [
    "# Q3. S1 is a set defined as S1= [10, 20, 30, 40, 50, 60].\n",
    "# S2 is a set defined as S2= [40, 50, 60, 70, 80, 90].\n",
    "S1 = {10, 20, 30, 40, 50, 60}\n",
    "S2 = {40, 50, 60, 70, 80, 90}"
   ]
  },
  {
   "cell_type": "code",
   "execution_count": 28,
   "metadata": {},
   "outputs": [
    {
     "data": {
      "text/plain": [
       "{10, 20, 30, 40, 50, 55, 60, 66}"
      ]
     },
     "execution_count": 28,
     "metadata": {},
     "output_type": "execute_result"
    }
   ],
   "source": [
    "# i. WAP to add 55 and 66 in Set S1.\n",
    "S1.update({55,66})\n",
    "S1"
   ]
  },
  {
   "cell_type": "code",
   "execution_count": 29,
   "metadata": {},
   "outputs": [
    {
     "data": {
      "text/plain": [
       "{20, 40, 50, 55, 60, 66}"
      ]
     },
     "execution_count": 29,
     "metadata": {},
     "output_type": "execute_result"
    }
   ],
   "source": [
    "# ii. WAP to remove 10 and 30 from Set S1.\n",
    "S1 = S1-{10,30}\n",
    "S1"
   ]
  },
  {
   "cell_type": "code",
   "execution_count": 30,
   "metadata": {},
   "outputs": [
    {
     "data": {
      "text/plain": [
       "True"
      ]
     },
     "execution_count": 30,
     "metadata": {},
     "output_type": "execute_result"
    }
   ],
   "source": [
    "# iii. WAP to check whether 40 is present in S1.\n",
    "40 in S1"
   ]
  },
  {
   "cell_type": "code",
   "execution_count": 32,
   "metadata": {},
   "outputs": [
    {
     "data": {
      "text/plain": [
       "{20, 40, 50, 55, 60, 66, 70, 80, 90}"
      ]
     },
     "execution_count": 32,
     "metadata": {},
     "output_type": "execute_result"
    }
   ],
   "source": [
    "# iv. WAP to find the union between S1 and S2.\n",
    "S1.union(S2)"
   ]
  },
  {
   "cell_type": "code",
   "execution_count": 33,
   "metadata": {},
   "outputs": [
    {
     "data": {
      "text/plain": [
       "{40, 50, 60}"
      ]
     },
     "execution_count": 33,
     "metadata": {},
     "output_type": "execute_result"
    }
   ],
   "source": [
    "# v. WAP to find the intersection between S1 and S2.\n",
    "S1.intersection(S2)"
   ]
  },
  {
   "cell_type": "code",
   "execution_count": 34,
   "metadata": {},
   "outputs": [
    {
     "data": {
      "text/plain": [
       "{20, 55, 66}"
      ]
     },
     "execution_count": 34,
     "metadata": {},
     "output_type": "execute_result"
    }
   ],
   "source": [
    "# vi. WAP to find the S1 - S2.\n",
    "S1-S2"
   ]
  },
  {
   "cell_type": "code",
   "execution_count": 37,
   "metadata": {},
   "outputs": [
    {
     "name": "stdout",
     "output_type": "stream",
     "text": [
      "BM07O0V\n",
      "PKE37W\n",
      "QN3EGGX5\n",
      "29S8G54V\n",
      "RBAZFW\n",
      "ERL13UP9\n",
      "7MFB04\n",
      "Z2O53WO\n",
      "LCFWB9AO\n",
      "T91IVVHE\n",
      "FFDZQ08\n",
      "KXNPMZD\n",
      "HYUNQ2B\n",
      "D24D0L\n",
      "66AML0\n",
      "ZSVXGW\n",
      "C941TMYC\n",
      "MKVJ86V\n",
      "QFMBH890\n",
      "X0UP7ZL\n",
      "LYOK4Z\n",
      "B2WVO7J\n",
      "DYDMH8\n",
      "NFWS278\n",
      "OXUZEWPZ\n",
      "68IYCG71\n",
      "RTFRBVJJ\n",
      "C1N9RTO\n",
      "IHGE5OM\n",
      "5H5VX4T\n",
      "TN32959\n",
      "8UWIZHXG\n",
      "U2OAOEPC\n",
      "F52BKAIP\n",
      "C1S2ZLI\n",
      "38X78BPZ\n",
      "Q624LP\n",
      "1PYLU30N\n",
      "JSBSAI\n",
      "BU3F5GBW\n",
      "4J3810J4\n",
      "NZVDZWX\n",
      "ICB0SS\n",
      "Q5AL7I\n",
      "8TL6KD5N\n",
      "VC85SD\n",
      "UWVK69K\n",
      "1H3WBPD9\n",
      "XJQQFO\n",
      "LM779IO\n",
      "DN8HVOVS\n",
      "CIY7DM\n",
      "BG316UU\n",
      "7ON7TU\n",
      "IX93MM\n",
      "ZFCOR8\n",
      "2B4WRJ5\n",
      "6YW03JB\n",
      "U6M2NTQY\n",
      "MVXGHAC\n",
      "5410OXPP\n",
      "U43YB8\n",
      "EBK6963C\n",
      "5TBJN07W\n",
      "275Q43\n",
      "EHE1ZK\n",
      "QUDUPQIQ\n",
      "IT9LGE\n",
      "3A9Y4JRV\n",
      "D8WZQF4\n",
      "2H5MMM8\n",
      "JA2S6QP2\n",
      "PW07RAIR\n",
      "LC3BX6\n",
      "28U57KBG\n",
      "GVX6BHM\n",
      "P63L5Q\n",
      "XFXGHGP8\n",
      "UR0VKPVT\n",
      "Z19ULREL\n",
      "LMJ4PYRJ\n",
      "YRMFEAY\n",
      "HV5OI9\n",
      "DDSMY4Q5\n",
      "ITBFAV\n",
      "78TW2E\n",
      "I9SJWQY\n",
      "LKP8S08\n",
      "9EHMWKZ\n",
      "44JELHIH\n",
      "6O5EN8\n",
      "M16N2C\n",
      "7YTGDDQT\n",
      "4UXZEM9D\n",
      "W8UFYFR\n",
      "8H930QL\n",
      "66UDTB\n",
      "3EH70X\n",
      "3ATH5E3H\n",
      "H9RXA2I7\n"
     ]
    }
   ],
   "source": [
    "# Q4. Write the following program.\n",
    "# i. WAP to print 100 random strings whose length between 6 and 8.\n",
    "import random\n",
    "import string\n",
    "for i in range(100):\n",
    "    print(''.join(random.choices(string.ascii_uppercase +\n",
    "                             string.digits, k = random.randint(6,8))))\n"
   ]
  },
  {
   "cell_type": "code",
   "execution_count": 39,
   "metadata": {},
   "outputs": [
    {
     "name": "stdout",
     "output_type": "stream",
     "text": [
      "601\n",
      "607\n",
      "613\n",
      "617\n",
      "619\n",
      "631\n",
      "641\n",
      "643\n",
      "647\n",
      "653\n",
      "659\n",
      "661\n",
      "673\n",
      "677\n",
      "683\n",
      "691\n",
      "701\n",
      "709\n",
      "719\n",
      "727\n",
      "733\n",
      "739\n",
      "743\n",
      "751\n",
      "757\n",
      "761\n",
      "769\n",
      "773\n",
      "787\n",
      "797\n",
      "Total number of primes between 600 and 800 are 30\n"
     ]
    }
   ],
   "source": [
    "# ii. WAP to print all prime numbers between 600 and 800.\n",
    "is_prime = lambda number: all( number%i != 0 for i in range(2, int(number**.5)+1) )\n",
    "count =0\n",
    "for i in range(600,800):\n",
    "    if is_prime(i):\n",
    "        print(i)\n",
    "        count+=1\n",
    "print(\"Total number of primes between 600 and 800 are {}\".format(count))"
   ]
  },
  {
   "cell_type": "code",
   "execution_count": 40,
   "metadata": {},
   "outputs": [
    {
     "name": "stdout",
     "output_type": "stream",
     "text": [
      "126\n",
      "189\n",
      "252\n",
      "315\n",
      "378\n",
      "441\n",
      "504\n",
      "567\n",
      "630\n",
      "693\n",
      "756\n",
      "819\n",
      "882\n",
      "945\n"
     ]
    }
   ],
   "source": [
    "# iii. WAP to print all numbers between 100 and 1000 that are divisible by 7 and 9.\n",
    "for i in range(100,1000):\n",
    "    if i%7==0 and i%9==0:\n",
    "        print(i)"
   ]
  },
  {
   "cell_type": "code",
   "execution_count": 41,
   "metadata": {},
   "outputs": [
    {
     "name": "stdout",
     "output_type": "stream",
     "text": [
      "L1 is [12, 21, 11, 27, 14, 17, 23, 18, 28, 10]\n",
      "L2 is [22, 17, 19, 10, 15, 16, 26, 18, 25, 21]\n"
     ]
    }
   ],
   "source": [
    "# Q5. WAP to create two lists of 10 random numbers between 10 and 30; \n",
    "L1 =random.sample(range(10, 30), 10)\n",
    "L2 = random.sample(range(10, 30), 10)\n",
    "print(\"L1 is {}\".format(L1))\n",
    "print(\"L2 is {}\".format(L2))"
   ]
  },
  {
   "cell_type": "code",
   "execution_count": 42,
   "metadata": {},
   "outputs": [
    {
     "name": "stdout",
     "output_type": "stream",
     "text": [
      "Common numbers in the two lists are {17, 10, 18, 21}\n"
     ]
    }
   ],
   "source": [
    "# i. Common numbers in the two lists\n",
    "print(\"Common numbers in the two lists are {}\".format(set(L1).intersection(set(L2))))"
   ]
  },
  {
   "cell_type": "code",
   "execution_count": 43,
   "metadata": {},
   "outputs": [
    {
     "name": "stdout",
     "output_type": "stream",
     "text": [
      "Unique numbers in both the list are {10, 11, 12, 14, 15, 16, 17, 18, 19, 21, 22, 23, 25, 26, 27, 28}\n"
     ]
    }
   ],
   "source": [
    "# ii. Unique numbers in both the list\n",
    "print(\"Unique numbers in both the list are {}\".format(set(L1).union(set(L2))))"
   ]
  },
  {
   "cell_type": "code",
   "execution_count": 44,
   "metadata": {},
   "outputs": [
    {
     "name": "stdout",
     "output_type": "stream",
     "text": [
      "Minimum in both the list are 10\n"
     ]
    }
   ],
   "source": [
    "# iii. Minimum in both the list\n",
    "print(\"Minimum in both the list are {}\".format(min(L1+L2)))"
   ]
  },
  {
   "cell_type": "code",
   "execution_count": 45,
   "metadata": {},
   "outputs": [
    {
     "name": "stdout",
     "output_type": "stream",
     "text": [
      "Maximum in both the list are 28\n"
     ]
    }
   ],
   "source": [
    "# iv. Maximum in both the list\n",
    "print(\"Maximum in both the list are {}\".format(max(L1+L2)))"
   ]
  },
  {
   "cell_type": "code",
   "execution_count": 46,
   "metadata": {},
   "outputs": [
    {
     "name": "stdout",
     "output_type": "stream",
     "text": [
      "Sum of both the lists are 370\n"
     ]
    }
   ],
   "source": [
    "# v. Sum of both the lists\n",
    "print(\"Sum of both the lists are {}\".format(sum(L1+L2)))"
   ]
  },
  {
   "cell_type": "code",
   "execution_count": 47,
   "metadata": {},
   "outputs": [
    {
     "name": "stdout",
     "output_type": "stream",
     "text": [
      "L is [805, 414, 453, 784, 369, 563, 832, 346, 164, 835, 286, 495, 390, 242, 762, 408, 761, 550, 430, 320, 504, 176, 612, 727, 799, 221, 166, 326, 610, 256, 460, 425, 553, 635, 846, 841, 424, 513, 162, 434, 397, 634, 148, 589, 466, 590, 650, 794, 524, 778, 113, 428, 749, 503, 686, 822, 527, 486, 573, 246, 245, 130, 292, 310, 713, 521, 733, 677, 357, 109, 174, 106, 233, 765, 300, 368, 379, 337, 102, 537, 253, 315, 107, 149, 156, 319, 471, 351, 622, 660, 304, 876, 227, 470, 760, 126, 753, 767, 558, 312]\n"
     ]
    }
   ],
   "source": [
    "# Q6. WAP to create a list of 100 random numbers between 100 and 900.\n",
    "L = random.sample(range(100, 900), 100)\n",
    "print(\"L is {}\".format(L))"
   ]
  },
  {
   "cell_type": "code",
   "execution_count": 48,
   "metadata": {},
   "outputs": [
    {
     "name": "stdout",
     "output_type": "stream",
     "text": [
      "All odd numbers are [805, 453, 369, 563, 835, 495, 761, 727, 799, 221, 425, 553, 635, 841, 513, 397, 589, 113, 749, 503, 527, 573, 245, 713, 521, 733, 677, 357, 109, 233, 765, 379, 337, 537, 253, 315, 107, 149, 319, 471, 351, 227, 753, 767]\n"
     ]
    }
   ],
   "source": [
    "# i. All odd numbers\n",
    "print(\"All odd numbers are {}\".format(list(filter(lambda x: x%2==1, L))))"
   ]
  },
  {
   "cell_type": "code",
   "execution_count": 49,
   "metadata": {},
   "outputs": [
    {
     "name": "stdout",
     "output_type": "stream",
     "text": [
      "All even numbers are [414, 784, 832, 346, 164, 286, 390, 242, 762, 408, 550, 430, 320, 504, 176, 612, 166, 326, 610, 256, 460, 846, 424, 162, 434, 634, 148, 466, 590, 650, 794, 524, 778, 428, 686, 822, 486, 246, 130, 292, 310, 174, 106, 300, 368, 102, 156, 622, 660, 304, 876, 470, 760, 126, 558, 312]\n"
     ]
    }
   ],
   "source": [
    "# ii. All even numbers\n",
    "print(\"All even numbers are {}\".format(list(filter(lambda x: x%2==0, L))))"
   ]
  },
  {
   "cell_type": "code",
   "execution_count": 50,
   "metadata": {},
   "outputs": [
    {
     "name": "stdout",
     "output_type": "stream",
     "text": [
      "All prime numbers are [563, 761, 727, 397, 113, 503, 521, 733, 677, 109, 233, 379, 337, 107, 149, 227]\n"
     ]
    }
   ],
   "source": [
    "# iii. All prime numbers\n",
    "is_prime = lambda number: all( number%i != 0 for i in range(2, int(number**.5)+1) )\n",
    "print(\"All prime numbers are {}\".format(list(filter(is_prime, L))))"
   ]
  },
  {
   "cell_type": "code",
   "execution_count": 51,
   "metadata": {},
   "outputs": [
    {
     "data": {
      "text/plain": [
       "{1: 'One', 2: 'Two', 3: 'Three', 4: 'Four', 5: 'Five'}"
      ]
     },
     "execution_count": 51,
     "metadata": {},
     "output_type": "execute_result"
    }
   ],
   "source": [
    "# Q7. D is a dictionary defined as D={1:\"One\",2:\"Two\",3:\"Three\",4:\"Four\", 5:\"Five\"}.\n",
    "D = {1:\"One\",2:\"Two\",3:\"Three\",4:\"Four\", 5:\"Five\"}\n",
    "D"
   ]
  },
  {
   "cell_type": "code",
   "execution_count": 57,
   "metadata": {},
   "outputs": [],
   "source": [
    "#open a file\n",
    "f = open(\"Q7.txt\", \"w\")\n",
    "#write to file\n",
    "for key,value in D.items():\n",
    "    f.write(str(key)+\",\"+str(value)+\"\\n\")\n",
    "#close file\n",
    "f.close()"
   ]
  },
  {
   "cell_type": "code",
   "execution_count": 58,
   "metadata": {},
   "outputs": [
    {
     "name": "stdout",
     "output_type": "stream",
     "text": [
      "1,One\n",
      "2,Two\n",
      "3,Three\n",
      "4,Four\n",
      "5,Five\n",
      "\n"
     ]
    }
   ],
   "source": [
    "#read the file\n",
    "f = open(\"Q7.txt\", \"r\")\n",
    "#print the file \n",
    "print(f.read())"
   ]
  },
  {
   "cell_type": "code",
   "execution_count": 59,
   "metadata": {},
   "outputs": [
    {
     "data": {
      "text/plain": [
       "['One', 'Two', 'Three', 'Four', 'Five']"
      ]
     },
     "execution_count": 59,
     "metadata": {},
     "output_type": "execute_result"
    }
   ],
   "source": [
    "# Q8. L is a list defined as L={\"One\",\"Two\",\"Three\",\"Four\",\"Five\"}.\n",
    "# WAP to count the length of reach element from a list and write to the file in the given below\n",
    "# format:\n",
    "# One, 3\n",
    "# Two, 3\n",
    "# Four, 4\n",
    "L = [\"One\",\"Two\",\"Three\",\"Four\",\"Five\"]\n",
    "L"
   ]
  },
  {
   "cell_type": "code",
   "execution_count": 60,
   "metadata": {},
   "outputs": [],
   "source": [
    "#open a file\n",
    "f = open(\"Q8.txt\", \"w\")\n",
    "#write to file\n",
    "for i in L:\n",
    "    f.write(str(i)+\", \"+str(len(i))+\"\\n\")\n",
    "#close file\n",
    "f.close()"
   ]
  },
  {
   "cell_type": "code",
   "execution_count": 61,
   "metadata": {},
   "outputs": [
    {
     "name": "stdout",
     "output_type": "stream",
     "text": [
      "One, 3\n",
      "Two, 3\n",
      "Three, 5\n",
      "Four, 4\n",
      "Five, 4\n",
      "\n"
     ]
    }
   ],
   "source": [
    "#read the file\n",
    "f = open(\"Q8.txt\", \"r\")\n",
    "#print the file\n",
    "print(f.read())"
   ]
  },
  {
   "cell_type": "code",
   "execution_count": 68,
   "metadata": {},
   "outputs": [],
   "source": [
    "# Q9. Write to the file 100 random strings whose length between 10 and 15.\n",
    "import random\n",
    "import string\n",
    "#open a file\n",
    "f = open(\"Q9.txt\", \"w\")\n",
    "#write to the file\n",
    "for i in range(100):\n",
    "    #write the strings with index\n",
    "    \n",
    "    f.write(\"{}. \".format(i+1)+''.join(random.choices(string.ascii_uppercase +\n",
    "                             string.digits, k = random.randint(10,15)))+\"\\n\")\n",
    "#close the file\n",
    "f.close()\n",
    "\n"
   ]
  },
  {
   "cell_type": "code",
   "execution_count": 69,
   "metadata": {},
   "outputs": [
    {
     "name": "stdout",
     "output_type": "stream",
     "text": [
      "1. UXHSPK0ALATQNLF\n",
      "2. DFT52RWRB8\n",
      "3. ARTQ0VF5VYYWH8D\n",
      "4. JYRPLR7YE2\n",
      "5. D3YLCZST3J2K\n",
      "6. 7ELX8ZEBFICPG\n",
      "7. 63I8M38B4L\n",
      "8. VNGNHW9Q5BWNCZR\n",
      "9. 47XYL3367T\n",
      "10. B5HAR0I63YT\n",
      "11. LMEQRMBNDS9PL\n",
      "12. 8YTI8FBNOU9V\n",
      "13. VSODHF95FZTOHF4\n",
      "14. CTD7VMXX7BI6WK\n",
      "15. 5ESHYJOAVW\n",
      "16. 9UVFWYVOPDKQIA\n",
      "17. LNDMX76I23\n",
      "18. XY495I8MUJU2H8\n",
      "19. RXVWHP9RPYH\n",
      "20. SD3C1A61LS\n",
      "21. 65FQX6GD7L39KM\n",
      "22. 2A4LN1IEJ9MU\n",
      "23. 77NJX9O5MMQYOP\n",
      "24. EYTN4S3YPCYXD\n",
      "25. BKPGQLR0Q68A\n",
      "26. SBMVUV7NEIO24I\n",
      "27. 6UZ5SIKW0H\n",
      "28. WW9Z5GBFG6\n",
      "29. UCEPP7I2IBN\n",
      "30. KMHODE4M5BZVWD1\n",
      "31. MMZ3B4QHBV\n",
      "32. 7DVCF8V896JU\n",
      "33. 84IEMT1YL35\n",
      "34. DFTTWGDFK6F\n",
      "35. 0VHR4T6IPUJWE2N\n",
      "36. GV06CUAC5C\n",
      "37. YWLO6FDIWC1\n",
      "38. 35R08XS34L89Z\n",
      "39. 3B8ABB02S4\n",
      "40. F3B39RZXVHOQNM4\n",
      "41. SWZ9DSVQ6CE19D9\n",
      "42. JSC9H3DNNAIPTF\n",
      "43. 039HXGIQLL1\n",
      "44. R26CYBDBUGC\n",
      "45. 67VMBSRPP3H\n",
      "46. XQDMPOOIOP8AOQ9\n",
      "47. W93CXOEZFXBUC\n",
      "48. KSNP0NJUEAXMC\n",
      "49. 8JZXP2ADVN3PFTK\n",
      "50. JAGU815HPU\n",
      "51. DQR70AVV4EAIRQ\n",
      "52. M2RNZCEIZJ8HF\n",
      "53. WYX1S136I45\n",
      "54. 5XKRY86KQ542HHY\n",
      "55. DKLB4RIYGR\n",
      "56. XC2W28JBCBU2F7\n",
      "57. ZU8QI7FTQORY4NO\n",
      "58. XS7XSW2ALVXH98A\n",
      "59. WWWFRRWTYO\n",
      "60. 3F8DLE8QQA8\n",
      "61. MNDNOOOLZ0T29X\n",
      "62. GBMBZ3ZC12FO\n",
      "63. 0O3C1R6CVQM7PY\n",
      "64. ICLWOIA0I6ITFYX\n",
      "65. RWJ9NI2QDHRED5\n",
      "66. C0SGUD28V5\n",
      "67. RXZN0Q56NIP\n",
      "68. URZ7INLI2I\n",
      "69. B0MIIDYXOOQPC\n",
      "70. 3K2FTWMB697BC\n",
      "71. E3C240XDTLALD\n",
      "72. 7XUEE85L6BWD6G\n",
      "73. M4OY7K0VUV\n",
      "74. KL5XL779FJYYFIG\n",
      "75. K9LA7ZDW1I1JDM\n",
      "76. 8TUTAFIKHM\n",
      "77. LQYGZ753ID\n",
      "78. QS8HWN560W\n",
      "79. C9AIENB5JCX7183\n",
      "80. XEIMKJAPJ9AWIWI\n",
      "81. GYBQNSYKVJ\n",
      "82. JAW6O94RAS\n",
      "83. AK7NRWD89YJ\n",
      "84. ZECJAYAWCIX\n",
      "85. 4WKOX4WMLFMA\n",
      "86. CCFXNS14ZFM\n",
      "87. 7X3B9KRKYK7Y\n",
      "88. ZTN3CSEKXSMO7\n",
      "89. MV6W9TKLJY3\n",
      "90. N6EF5AFY8WYM4XM\n",
      "91. KO5PNEU3C0VIAZ\n",
      "92. CB7NOBS140ONF\n",
      "93. X3LJQV6TAFDOR\n",
      "94. QJ43RRHLN86\n",
      "95. RI5YUWNHL2Q\n",
      "96. IV2961PQ5I\n",
      "97. E6XBGCT2WL34\n",
      "98. M5BO3H5EYJZU53N\n",
      "99. MYTHZXUNZGKCPXZ\n",
      "100. 0TR5D3L4VML36E3\n",
      "\n"
     ]
    }
   ],
   "source": [
    "#read the file\n",
    "f = open(\"Q9.txt\", \"r\")\n",
    "#print the file\n",
    "print(f.read())"
   ]
  },
  {
   "cell_type": "code",
   "execution_count": 73,
   "metadata": {},
   "outputs": [],
   "source": [
    "# Q10. Write to the file all prime numbers between 600 and 800.\n",
    "is_prime = lambda number: all( number%i != 0 for i in range(2, int(number**.5)+1) )\n",
    "count=0\n",
    "#open a file\n",
    "f = open(\"Q10.txt\", \"w\")\n",
    "#write to the file\n",
    "for i in range(600,800):\n",
    "    if is_prime(i):\n",
    "        count+=1\n",
    "        f.write(str(i)+\"\\n\")\n",
    "f.write(\"The total number of primes between 600 and 800 are {}\".format(count))\n",
    "#close the file\n",
    "f.close()"
   ]
  },
  {
   "cell_type": "code",
   "execution_count": 74,
   "metadata": {},
   "outputs": [
    {
     "name": "stdout",
     "output_type": "stream",
     "text": [
      "601\n",
      "607\n",
      "613\n",
      "617\n",
      "619\n",
      "631\n",
      "641\n",
      "643\n",
      "647\n",
      "653\n",
      "659\n",
      "661\n",
      "673\n",
      "677\n",
      "683\n",
      "691\n",
      "701\n",
      "709\n",
      "719\n",
      "727\n",
      "733\n",
      "739\n",
      "743\n",
      "751\n",
      "757\n",
      "761\n",
      "769\n",
      "773\n",
      "787\n",
      "797\n",
      "The total number of primes between 600 and 800 are 30\n"
     ]
    }
   ],
   "source": [
    "#read the file\n",
    "f = open(\"Q10.txt\", \"r\")\n",
    "#print the file\n",
    "print(f.read())"
   ]
  },
  {
   "cell_type": "code",
   "execution_count": 77,
   "metadata": {},
   "outputs": [
    {
     "name": "stdout",
     "output_type": "stream",
     "text": [
      "The total number of primes between 1 and 10000 are 78499\n",
      "Time taken by the program is 8.20159649848938\n"
     ]
    }
   ],
   "source": [
    "# Q11. WAP to calculate the time taken by a program.\n",
    "import time\n",
    "start_time = time.time()\n",
    "#your code here\n",
    "#prime number between 1 and 1000000\n",
    "is_prime = lambda number: all( number%i != 0 for i in range(2, int(number**.5)+1) )\n",
    "count=0\n",
    "for i in range(1,1000000):\n",
    "    if is_prime(i):\n",
    "        count+=1\n",
    "print(\"The total number of primes between 1 and 10000 are {}\".format(count))\n",
    "print(\"Time taken by the program is {}\".format(time.time()-start_time))"
   ]
  },
  {
   "cell_type": "code",
   "execution_count": 78,
   "metadata": {},
   "outputs": [],
   "source": [
    "#Q12. WAP to create a dictionary of student marks in five subjects and you have to find the\n",
    "# student having maximum and minimum average marks.\n",
    "marks = {\n",
    "    \"Raj\":{\n",
    "        \"English\":80,\n",
    "        \"Maths\":90,\n",
    "        \"Science\":70,\n",
    "                    \"Social\":60,\n",
    "        \"Computer\":85\n",
    "    },\n",
    "    \"Ravi\":{\n",
    "        \"English\":70,\n",
    "        \"Maths\":80,\n",
    "        \"Science\":90,\n",
    "        \"Social\":80,\n",
    "        \"Computer\":75\n",
    "    },\n",
    "    \"Rajesh\":{\n",
    "        \"English\":90,\n",
    "        \"Maths\":60,\n",
    "        \"Science\":80,\n",
    "        \"Social\":70,\n",
    "        \"Computer\":70\n",
    "    },\n",
    "    \"Rajni\":{\n",
    "        \"English\":80,\n",
    "        \"Maths\":70,\n",
    "        \"Science\":80,\n",
    "        \"Social\":70,\n",
    "        \"Computer\":80\n",
    "    },\n",
    "    \"Raju\":{\n",
    "        \"English\":70,\n",
    "        \"Maths\":80,\n",
    "        \"Science\":70,\n",
    "        \"Social\":90,\n",
    "        \"Computer\":70\n",
    "    }\n",
    "}"
   ]
  },
  {
   "cell_type": "code",
   "execution_count": 80,
   "metadata": {},
   "outputs": [
    {
     "name": "stdout",
     "output_type": "stream",
     "text": [
      "Average Marks of all students are {'Raj': 77.0, 'Ravi': 79.0, 'Rajesh': 74.0, 'Rajni': 76.0, 'Raju': 76.0}\n",
      "The student having maximum average marks is Ravi\n",
      "The student having minimum average marks is Rajesh\n"
     ]
    }
   ],
   "source": [
    "# find the student having maximum and minimum average marks.\n",
    "avg_marks = {}\n",
    "for key, value in marks.items():\n",
    "    avg_marks[key] = sum(value.values())/len(value)\n",
    "print(\"Average Marks of all students are {}\".format(avg_marks))\n",
    "print(\"The student having maximum average marks is {}\".format(max(avg_marks, key=avg_marks.get)))\n",
    "print(\"The student having minimum average marks is {}\".format(min(avg_marks, key=avg_marks.get)))\n"
   ]
  },
  {
   "cell_type": "code",
   "execution_count": 84,
   "metadata": {},
   "outputs": [
    {
     "name": "stdout",
     "output_type": "stream",
     "text": [
      "Time taken to sort 5000 elements is 0.0009968280792236328\n",
      "Time taken to sort 10000 elements is 0.0019855499267578125\n",
      "Time taken to sort 15000 elements is 0.002980470657348633\n",
      "Time taken to sort 20000 elements is 0.00498652458190918\n",
      "Time taken to sort 25000 elements is 0.00799250602722168\n"
     ]
    }
   ],
   "source": [
    "# Q13. WAP to sort the following number of elements in a list and calculate time taken.\n",
    "# number of elements being 5k,10k,15k,20k,25k\n",
    "L = [5000,10000,15000,20000,25000]\n",
    "for i in L:\n",
    "    L = random.sample(range(1, 1000000), i)\n",
    "    start_time = time.time()\n",
    "    L.sort()\n",
    "    print(\"Time taken to sort {} elements is {}\".format(i, time.time()-start_time))"
   ]
  },
  {
   "cell_type": "code",
   "execution_count": null,
   "metadata": {},
   "outputs": [],
   "source": []
  }
 ],
 "metadata": {
  "interpreter": {
   "hash": "2be5faf79681da6f2a61fdfdd5405d65d042280f7fba6178067603e3a2925119"
  },
  "kernelspec": {
   "display_name": "Python 3.10.2 64-bit",
   "language": "python",
   "name": "python3"
  },
  "language_info": {
   "codemirror_mode": {
    "name": "ipython",
    "version": 3
   },
   "file_extension": ".py",
   "mimetype": "text/x-python",
   "name": "python",
   "nbconvert_exporter": "python",
   "pygments_lexer": "ipython3",
   "version": "3.10.2"
  },
  "orig_nbformat": 4
 },
 "nbformat": 4,
 "nbformat_minor": 2
}
